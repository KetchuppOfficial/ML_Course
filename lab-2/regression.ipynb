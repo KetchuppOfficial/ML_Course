{
 "cells": [
  {
   "cell_type": "markdown",
   "metadata": {},
   "source": [
    "# Лабораторная работа 2. Задача регрессии"
   ]
  },
  {
   "cell_type": "code",
   "execution_count": 80,
   "metadata": {},
   "outputs": [
    {
     "name": "stdout",
     "output_type": "stream",
     "text": [
      "\n",
      "\u001b[1m[\u001b[0m\u001b[34;49mnotice\u001b[0m\u001b[1;39;49m]\u001b[0m\u001b[39;49m A new release of pip is available: \u001b[0m\u001b[31;49m24.2\u001b[0m\u001b[39;49m -> \u001b[0m\u001b[32;49m24.3.1\u001b[0m\n",
      "\u001b[1m[\u001b[0m\u001b[34;49mnotice\u001b[0m\u001b[1;39;49m]\u001b[0m\u001b[39;49m To update, run: \u001b[0m\u001b[32;49mpip install --upgrade pip\u001b[0m\n"
     ]
    }
   ],
   "source": [
    "!pip3 install --require-virtualenv -q -r requirements.txt"
   ]
  },
  {
   "cell_type": "code",
   "execution_count": 81,
   "metadata": {},
   "outputs": [],
   "source": [
    "import pandas as pd\n",
    "import lightgbm as lgb\n",
    "from sklearn.metrics import mean_absolute_percentage_error\n",
    "from sklearn.model_selection import train_test_split"
   ]
  },
  {
   "cell_type": "code",
   "execution_count": 82,
   "metadata": {},
   "outputs": [],
   "source": [
    "train_dataset : pd.DataFrame = pd.read_csv(\"data/train.csv\")\n",
    "Y_train : pd.Series = train_dataset.get(\"y\")\n",
    "X_train : pd.DataFrame = train_dataset.drop([\"index\", \"y\"], axis=\"columns\")\n",
    "\n",
    "test_dataset : pd.DataFrame = pd.read_csv(\"data/test.csv\")\n",
    "X_test : pd.DataFrame = test_dataset.drop([\"index\"], axis=\"columns\")"
   ]
  },
  {
   "cell_type": "code",
   "execution_count": 83,
   "metadata": {},
   "outputs": [],
   "source": [
    "lgb_x_train, lgb_x_test, lgb_y_train, lgb_y_test = \\\n",
    "    train_test_split(X_train, Y_train, test_size=0.2, random_state=0x42)"
   ]
  },
  {
   "cell_type": "code",
   "execution_count": 84,
   "metadata": {},
   "outputs": [
    {
     "name": "stdout",
     "output_type": "stream",
     "text": [
      "MAPE: 0.24345958400769127\n"
     ]
    }
   ],
   "source": [
    "model : lgb.LGBMRegressor = lgb.LGBMRegressor(\n",
    "    objective=\"mape\",\n",
    "    device_type=\"gpu\",\n",
    "    seed=0x42,\n",
    "    n_estimators=358,\n",
    "    learning_rate=0.05,\n",
    "    max_depth=5,\n",
    "    num_leaves=31,\n",
    "    min_data_in_leaf=111,\n",
    "    lambda_l2=1900,\n",
    "    verbosity=-1,\n",
    ")\n",
    "\n",
    "model.fit(lgb_x_train, lgb_y_train)\n",
    "print(f\"MAPE: {mean_absolute_percentage_error(lgb_y_test, model.predict(lgb_x_test))}\")\n",
    "\n",
    "model.fit(X_train, Y_train)\n",
    "Y_test : pd.DataFrame = pd.DataFrame({\"index\" : range(1000), \"y\" : model.predict(X_test)})\n",
    "Y_test.to_csv(\"data/results.csv\", index=False)"
   ]
  }
 ],
 "metadata": {
  "kernelspec": {
   "display_name": ".venv",
   "language": "python",
   "name": "python3"
  },
  "language_info": {
   "codemirror_mode": {
    "name": "ipython",
    "version": 3
   },
   "file_extension": ".py",
   "mimetype": "text/x-python",
   "name": "python",
   "nbconvert_exporter": "python",
   "pygments_lexer": "ipython3",
   "version": "3.12.3"
  }
 },
 "nbformat": 4,
 "nbformat_minor": 2
}
